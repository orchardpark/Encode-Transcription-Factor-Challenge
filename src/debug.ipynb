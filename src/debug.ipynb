{
 "cells": [
  {
   "cell_type": "code",
   "execution_count": null,
   "metadata": {
    "collapsed": true
   },
   "outputs": [],
   "source": [
    "from multiconv import *\n",
    "from convnet import *\n",
    "from datagen import *\n",
    "\n",
    "datagen = DataGenerator()"
   ]
  },
  {
   "cell_type": "code",
   "execution_count": null,
   "metadata": {},
   "outputs": [],
   "source": [
    "mode = 'FA' # fit all\n",
    "batch_size = 256\n",
    "epochs = 1\n",
    "celltypes = datagen.get_celltypes()\n",
    "use_celltypes = 'All'\n",
    "held_out_celltypes = ['MCF-7', 'SK-N-SH', 'PC-3', 'liver', 'induced_pluripotent_stem_cell']\n",
    "\n",
    "if use_celltypes.strip().upper() == 'One'.upper():\n",
    "    celltypes = ['HepG2']\n",
    "\n",
    "for celltype in held_out_celltypes:\n",
    "    try:\n",
    "        celltypes.remove(celltype)\n",
    "    except:\n",
    "        continue\n",
    "\n",
    "MultiConvNet('../log/', batch_size=batch_size, num_epochs=epochs, sequence_width=600,\n",
    "             num_outputs=datagen.num_trans_fs, eval_size=.2,\n",
    "             early_stopping=10, num_dnase_features=63, dropout_rate=.25,\n",
    "             config=1, verbose=True, name='multiconvnet_'+str(mode)+str(epochs)+str(use_celltypes)+str(batch_size)\n",
    "             , segment='train', learning_rate=0.001)"
   ]
  },
  {
   "cell_type": "code",
   "execution_count": null,
   "metadata": {},
   "outputs": [],
   "source": [
    ""
   ]
  }
 ],
 "metadata": {
  "kernelspec": {
   "display_name": "Python 2",
   "language": "python",
   "name": "python2"
  },
  "language_info": {
   "codemirror_mode": {
    "name": "ipython",
    "version": 2.0
   },
   "file_extension": ".py",
   "mimetype": "text/x-python",
   "name": "python",
   "nbconvert_exporter": "python",
   "pygments_lexer": "ipython2",
   "version": "2.7.6"
  }
 },
 "nbformat": 4,
 "nbformat_minor": 0
}